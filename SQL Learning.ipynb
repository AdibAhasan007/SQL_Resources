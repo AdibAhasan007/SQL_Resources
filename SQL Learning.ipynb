{
 "cells": [
  {
   "cell_type": "markdown",
   "metadata": {},
   "source": [
    "# Learn SQL step by step in 30 days"
   ]
  },
  {
   "cell_type": "markdown",
   "metadata": {},
   "source": [
    " "
   ]
  },
  {
   "cell_type": "markdown",
   "metadata": {},
   "source": [
    "Following is a schedule to learn SQL step by step considering 2 hours of dedicated study every single day. This program is perfect for beginners with no knowledge of SQL."
   ]
  },
  {
   "cell_type": "markdown",
   "metadata": {},
   "source": [
    "## Complete SQL Course In Hindi:"
   ]
  },
  {
   "cell_type": "markdown",
   "metadata": {},
   "source": [
    "SQL Playlist: https://www.youtube.com/playlist?list=PLdOKnrf8EcP17p05q13WXbHO5Z_JfXNpw"
   ]
  },
  {
   "cell_type": "markdown",
   "metadata": {},
   "source": [
    "### SQL Course by Udemy:"
   ]
  },
  {
   "cell_type": "markdown",
   "metadata": {},
   "source": [
    "The Complete SQL Bootcamp 2022: https://www.udemy.com/course/the-complete-sql-bootcamp/"
   ]
  },
  {
   "cell_type": "markdown",
   "metadata": {},
   "source": [
    "### Websites to practice SQL online:"
   ]
  },
  {
   "cell_type": "markdown",
   "metadata": {},
   "source": [
    "* HackerRank: https://www.hackerrank.com/domains/sql\n",
    "        \n",
    "* SQL Practice: https://www.sql-practice.com/\n",
    "        \n",
    "* 8 week sql Challenge by Danny: https://8weeksqlchallenge.com/\n",
    "        \n",
    "* data lemur by Nick: https://datalemur.com/"
   ]
  },
  {
   "cell_type": "markdown",
   "metadata": {},
   "source": [
    "### SQL: Week 1"
   ]
  },
  {
   "cell_type": "markdown",
   "metadata": {},
   "source": [
    "1. Introduction to SQL-What Is SQL & Database: https://www.youtube.com/watch?v=yH1zCq-iaeU\n",
    "\n",
    "* Data Types, Primary-Foreign Keys & Constraints: https://www.youtube.com/watch?v=HmH-76_2Ak8\n",
    "\n",
    "* Install postgresql and pgadmin4: https://www.youtube.com/watch?v=E-Qn2tbcmDE\n",
    "\n",
    "* Create Table In SQL & Create Database: https://www.youtube.com/watch?v=v-2cIUgx_jw\n",
    "\n",
    "* INSERT UPDATE, DELETE & ALTER Table: https://www.youtube.com/watch?v=4YAAgrm8_ZI\n",
    "\n",
    "* SELECT Statement & WHERE Clause with Example : https://www.youtube.com/watch?v=eiLqDeDp7Oc\n",
    "\n",
    "* How To Import Excel File (CSV) to SQL: https://www.youtube.com/watch?v=rfWYbMd3ApA\n",
    "\n",
    "* Functions in SQL | String Functions: https://www.youtube.com/watch?v=55_UN5gVARs\n",
    "\n",
    "* Aggregate Functions: https://www.youtube.com/watch?v=9NfthspfXEo"
   ]
  },
  {
   "cell_type": "markdown",
   "metadata": {},
   "source": [
    "### SQL: Week 2"
   ]
  },
  {
   "cell_type": "markdown",
   "metadata": {},
   "source": [
    "10. Group By and Having Clause: https://www.youtube.com/watch?v=SvJLXj05cow\n",
    "\n",
    "* TimeStamp and Extract Function-Date Time Function: https://www.youtube.com/watch?v=kwGh6XvLrEk\n",
    "\n",
    "* Complete SQL JOINS For Beginners: https://www.youtube.com/watch?v=H6988OpZKTU\n",
    "\n",
    "* SELF JOIN | UNION & UNION ALL: https://www.youtube.com/watch?v=V3xjmBi1QQE\n",
    "\n",
    "* Subquery: https://www.youtube.com/watch?v=5O2OuN1ougU\n",
    "\n",
    "* Window Function: "
   ]
  },
    {
   "cell_type": "markdown",
   "metadata": {},
   "source": [
    "### Free SQL recources on YouTube:"
   ]
  },
  {
   "cell_type": "markdown",
   "metadata": {},
   "source": [
    "* MySQL Tutorial for Beginners [Full Course]: https://www.youtube.com/watch?v=7S_tz1z_5bA\n",
    "\n",
    "* SQL Tutorial - Full Database Course for Beginners: https://www.youtube.com/watch?v=HXV3zeQKqGY"
   ]
  },
 ],
 "metadata": {
  "kernelspec": {
   "display_name": "Python 3",
   "language": "python",
   "name": "python3"
  },
  "language_info": {
   "codemirror_mode": {
    "name": "ipython",
    "version": 3
   },
   "file_extension": ".py",
   "mimetype": "text/x-python",
   "name": "python",
   "nbconvert_exporter": "python",
   "pygments_lexer": "ipython3",
   "version": "3.8.3"
  }
 },
 "nbformat": 4,
 "nbformat_minor": 4
}
